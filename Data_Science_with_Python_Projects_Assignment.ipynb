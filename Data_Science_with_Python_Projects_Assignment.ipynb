{
  "nbformat": 4,
  "nbformat_minor": 0,
  "metadata": {
    "colab": {
      "name": "Data Science with Python Projects - Assignment.ipynb",
      "provenance": [],
      "collapsed_sections": [],
      "authorship_tag": "ABX9TyM3YxDwBYVTGeQB6pL3dNei",
      "include_colab_link": true
    },
    "kernelspec": {
      "name": "python3",
      "display_name": "Python 3"
    }
  },
  "cells": [
    {
      "cell_type": "markdown",
      "metadata": {
        "id": "view-in-github",
        "colab_type": "text"
      },
      "source": [
        "<a href=\"https://colab.research.google.com/github/CJSackey/DS_Assignments/blob/master/Data_Science_with_Python_Projects_Assignment.ipynb\" target=\"_parent\"><img src=\"https://colab.research.google.com/assets/colab-badge.svg\" alt=\"Open In Colab\"/></a>"
      ]
    },
    {
      "cell_type": "markdown",
      "metadata": {
        "id": "huHpRznohIwx",
        "colab_type": "text"
      },
      "source": [
        "### Assignment\n",
        "\n",
        "Create a function named `calculate()` in `mean_var_std.py` that uses Numpy to output the mean, variance, standard deviation, max, min, and sum of the rows, columns, and elements in a 3 x 3 matrix.\n",
        "\n",
        "\n",
        "The input of the function should be a list containing 9 digits. The function should convert the list into a 3 x 3 Numpy array, and then return a dictionary containing the mean, variance, standard deviation, max, min, and sum along both axes and for the flattened matrix.\n",
        "\n",
        "The returned dictionary should follow this format:\n",
        "```py\n",
        "{\n",
        "  'mean': [axis1, axis2, flattened],\n",
        "  'variance': [axis1, axis2, flattened],\n",
        "  'standard deviation': [axis1, axis2, flattened],\n",
        "  'max': [axis1, axis2, flattened],\n",
        "  'min': [axis1, axis2, flattened],\n",
        "  'sum': [axis1, axis2, flattened]\n",
        "}\n",
        "```\n",
        "\n",
        "If a list containing less than 9 elements is passed into the function, it should raise a `ValueError` exception with the message: \"List must contain nine numbers.\" The values in the returned dictionary should be lists and not Numpy arrays.\n",
        "\n",
        "For example, `calculate([0,1,2,3,4,5,6,7,8])` should return:\n",
        "```py\n",
        "{\n",
        "  'mean': [[3.0, 4.0, 5.0], [1.0, 4.0, 7.0], 4.0], \n",
        "  'variance': [[6.0, 6.0, 6.0], [0.6666666666666666, 0.6666666666666666, 0.6666666666666666], 6.666666666666667], \n",
        "  'standard deviation': [[2.449489742783178, 2.449489742783178, 2.449489742783178], [0.816496580927726, 0.816496580927726, 0.816496580927726], 2.581988897471611],\n",
        "  'max': [[6, 7, 8], [2, 5, 8], 8],\n",
        "  'min': [[0, 1, 2], [0, 3, 6], 0],\n",
        "  'sum': [[9, 12, 15], [3, 12, 21], 36]}\n",
        "}\n",
        "```\n",
        "\n",
        "The unit tests for this project are in `test_module.py`.\n",
        "\n",
        "### Development\n",
        "\n",
        "For development, you can use `main.py` to test your `calculate()` function. Click the \"run\" button and `main.py` will run.\n",
        "\n",
        "### Testing \n",
        "\n",
        "We imported the tests from `test_module.py` to `main.py` for your convenience. The tests will run automatically whenever you hit the \"run\" button.\n",
        "\n",
        "### Submitting\n",
        "\n",
        "Copy your project's URL and submit it to freeCodeCamp.\n"
      ]
    },
    {
      "cell_type": "code",
      "metadata": {
        "id": "lZUWl_qRytLs",
        "colab_type": "code",
        "colab": {
          "base_uri": "https://localhost:8080/",
          "height": 119
        },
        "outputId": "c03de846-cab7-4b71-b4f4-30a7fe0ee81c"
      },
      "source": [
        "#Solution\n",
        "\n",
        "import numpy as np\n",
        "\n",
        "def calculate(list):\n",
        "  if len(list) != 9:\n",
        "    print(\"List must contain nine numbers.\")\n",
        "    return\n",
        "  array = np.array(list).reshape((3, 3))\n",
        "  print(\"mean:\", [(np.mean(array, axis=0)).tolist(), (np.mean(array, axis=1)).tolist(), (np.mean(array))])\n",
        "  print(\"variance:\", [(np.var(array, axis=0)).tolist(), (np.var(array, axis=1)).tolist(), (np.var(array))])\n",
        "  print(\"standard deviation:\", [(np.std(array, axis=0)).tolist(), (np.std(array, axis=1)).tolist(), (np.std(array))])\n",
        "  print(\"min:\", [(np.min(array, axis=0)).tolist(), (np.min(array, axis=1)).tolist(), (np.min(array))])\n",
        "  print(\"max:\", [(np.max(array, axis=0)).tolist(), (np.max(array, axis=1)).tolist(), (np.max(array))])\n",
        "  print(\"sum:\", [(np.sum(array, axis=0)).tolist(), (np.sum(array, axis=1)).tolist(), (np.sum(array))])\n",
        "\n",
        "calculate([0,1,2,3,4,5,6,7,8])"
      ],
      "execution_count": 57,
      "outputs": [
        {
          "output_type": "stream",
          "text": [
            "mean: [[3.0, 4.0, 5.0], [1.0, 4.0, 7.0], 4.0]\n",
            "variance: [[6.0, 6.0, 6.0], [0.6666666666666666, 0.6666666666666666, 0.6666666666666666], 6.666666666666667]\n",
            "standard deviation: [[2.449489742783178, 2.449489742783178, 2.449489742783178], [0.816496580927726, 0.816496580927726, 0.816496580927726], 2.581988897471611]\n",
            "min: [[0, 1, 2], [0, 3, 6], 0]\n",
            "max: [[6, 7, 8], [2, 5, 8], 8]\n",
            "sum: [[9, 12, 15], [3, 12, 21], 36]\n"
          ],
          "name": "stdout"
        }
      ]
    },
    {
      "cell_type": "code",
      "metadata": {
        "id": "JZ_fbM5M35z-",
        "colab_type": "code",
        "colab": {}
      },
      "source": [
        ""
      ],
      "execution_count": null,
      "outputs": []
    }
  ]
}